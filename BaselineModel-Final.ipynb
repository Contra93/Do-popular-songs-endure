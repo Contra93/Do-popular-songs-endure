{
 "cells": [
  {
   "cell_type": "code",
   "execution_count": 1,
   "metadata": {},
   "outputs": [],
   "source": [
    "import pandas as pd\n",
    "import numpy as np\n",
    "import spotipy\n",
    "from spotipy.oauth2 import SpotifyClientCredentials\n",
    "import pprint"
   ]
  },
  {
   "cell_type": "code",
   "execution_count": 2,
   "metadata": {},
   "outputs": [
    {
     "data": {
      "text/plain": [
       "(3161, 5)"
      ]
     },
     "execution_count": 2,
     "metadata": {},
     "output_type": "execute_result"
    }
   ],
   "source": [
    "songs = pd.read_csv(\"songsWithPopularity.csv\",sep=\",\")\n",
    "songsWithValidPopularity = songs[songs[\"Spotify_Popularity\"] > 0]\n",
    "songsWithValidPopularity.shape"
   ]
  },
  {
   "cell_type": "markdown",
   "metadata": {},
   "source": [
    "# Baseline Model\n",
    "\n",
    "Applying regression between the variables C, M and y.\n",
    "1. C - Current Popularity\n",
    "2. M - Billboard Rank in the year of its appearance on Billboard\n",
    "3. y - Number of years elapsed since its appearnce"
   ]
  },
  {
   "cell_type": "code",
   "execution_count": 3,
   "metadata": {},
   "outputs": [],
   "source": [
    "def getTrainTestPermuteForDataframeIndex(df, trainFraction, testFraction):\n",
    "    dfSize = len(df.index)\n",
    "    perm = np.random.permutation(df.index)\n",
    "    trainEnd = int(trainFraction * dfSize)\n",
    "    validateEnd = int(testFraction * dfSize) + trainEnd\n",
    "    return perm[:trainEnd], perm[trainEnd:validateEnd]"
   ]
  },
  {
   "cell_type": "code",
   "execution_count": 4,
   "metadata": {},
   "outputs": [
    {
     "data": {
      "text/html": [
       "<div>\n",
       "<style scoped>\n",
       "    .dataframe tbody tr th:only-of-type {\n",
       "        vertical-align: middle;\n",
       "    }\n",
       "\n",
       "    .dataframe tbody tr th {\n",
       "        vertical-align: top;\n",
       "    }\n",
       "\n",
       "    .dataframe thead th {\n",
       "        text-align: right;\n",
       "    }\n",
       "</style>\n",
       "<table border=\"1\" class=\"dataframe\">\n",
       "  <thead>\n",
       "    <tr style=\"text-align: right;\">\n",
       "      <th></th>\n",
       "      <th>Year</th>\n",
       "      <th>Spotify_Popularity</th>\n",
       "      <th>Original_Year</th>\n",
       "      <th>Rank</th>\n",
       "      <th>Title</th>\n",
       "      <th>Artist</th>\n",
       "    </tr>\n",
       "  </thead>\n",
       "  <tbody>\n",
       "    <tr>\n",
       "      <th>0</th>\n",
       "      <td>58</td>\n",
       "      <td>52</td>\n",
       "      <td>1960</td>\n",
       "      <td>1</td>\n",
       "      <td>Theme From “A Summer Place”</td>\n",
       "      <td>Percy Faith</td>\n",
       "    </tr>\n",
       "    <tr>\n",
       "      <th>1</th>\n",
       "      <td>58</td>\n",
       "      <td>45</td>\n",
       "      <td>1960</td>\n",
       "      <td>13</td>\n",
       "      <td>Greenfields</td>\n",
       "      <td>Brothers Four</td>\n",
       "    </tr>\n",
       "    <tr>\n",
       "      <th>2</th>\n",
       "      <td>58</td>\n",
       "      <td>61</td>\n",
       "      <td>1960</td>\n",
       "      <td>15</td>\n",
       "      <td>El Paso</td>\n",
       "      <td>Marty Robbins</td>\n",
       "    </tr>\n",
       "    <tr>\n",
       "      <th>3</th>\n",
       "      <td>58</td>\n",
       "      <td>29</td>\n",
       "      <td>1960</td>\n",
       "      <td>21</td>\n",
       "      <td>Where Or When</td>\n",
       "      <td>Dion and The Belmonts</td>\n",
       "    </tr>\n",
       "    <tr>\n",
       "      <th>4</th>\n",
       "      <td>58</td>\n",
       "      <td>8</td>\n",
       "      <td>1960</td>\n",
       "      <td>24</td>\n",
       "      <td>Why</td>\n",
       "      <td>Frankie Avalon</td>\n",
       "    </tr>\n",
       "  </tbody>\n",
       "</table>\n",
       "</div>"
      ],
      "text/plain": [
       "   Year  Spotify_Popularity  Original_Year  Rank                        Title  \\\n",
       "0    58                  52           1960     1  Theme From “A Summer Place”   \n",
       "1    58                  45           1960    13                  Greenfields   \n",
       "2    58                  61           1960    15                      El Paso   \n",
       "3    58                  29           1960    21                Where Or When   \n",
       "4    58                   8           1960    24                          Why   \n",
       "\n",
       "                  Artist  \n",
       "0            Percy Faith  \n",
       "1          Brothers Four  \n",
       "2          Marty Robbins  \n",
       "3  Dion and The Belmonts  \n",
       "4         Frankie Avalon  "
      ]
     },
     "execution_count": 4,
     "metadata": {},
     "output_type": "execute_result"
    }
   ],
   "source": [
    "x1 = songsWithValidPopularity['Rank']\n",
    "x2 = 2018 - songsWithValidPopularity['year']\n",
    "y = songsWithValidPopularity['Spotify_Popularity']\n",
    "df = pd.DataFrame({\"Year\": x2.values, \n",
    "                   \"Spotify_Popularity\": y.values, \n",
    "                   \"Original_Year\": songsWithValidPopularity['year'].values, \n",
    "                   \"Rank\":songsWithValidPopularity[\"Rank\"].values, \n",
    "                   \"Title\": songsWithValidPopularity[\"Title\"].values, \n",
    "                   \"Artist\": songsWithValidPopularity[\"Artist\"].values})\n",
    "\n",
    "permutedTrainIndexArr, permutedTestIndexArr = getTrainTestPermuteForDataframeIndex(df, 0.8, 0.2)\n",
    "\n",
    "trainDf = df.iloc[permutedTrainIndexArr]\n",
    "testDf = df.iloc[permutedTestIndexArr]\n",
    "\n",
    "trainX = pd.DataFrame({\"Rank\": trainDf[\"Rank\"].values, \"Year\": trainDf[\"Year\"].values})\n",
    "trainY = trainDf[\"Spotify_Popularity\"].values.reshape(-1,1)\n",
    "\n",
    "testX = pd.DataFrame({\"Rank\": testDf[\"Rank\"].values, \"Year\": testDf[\"Year\"].values})\n",
    "testY = testDf[\"Spotify_Popularity\"].values.reshape(-1,1)\n",
    "df.head()"
   ]
  },
  {
   "cell_type": "markdown",
   "metadata": {},
   "source": [
    "# Assuming Linear Relationship Between C, M, y\n",
    "\n",
    "C = beta0 * M + beta1 * y + beta2"
   ]
  },
  {
   "cell_type": "code",
   "execution_count": 48,
   "metadata": {},
   "outputs": [
    {
     "name": "stdout",
     "output_type": "stream",
     "text": [
      "[[-4.37596411 -0.47476298]] [81.87181553]\n",
      "Linear Regression: Train MSE:  190.3922941978174\n",
      "Linear Regression: Test MSE:  188.51461056100788\n"
     ]
    }
   ],
   "source": [
    "from sklearn import linear_model\n",
    "from sklearn.metrics import mean_squared_error\n",
    "\n",
    "def linearModel(trainX, trainY, testX, testY):\n",
    "    regression = linear_model.Ridge()\n",
    "    model = regression.fit(trainX, trainY)\n",
    "    print(regression.coef_, regression.intercept_)\n",
    "    trainMse = mean_squared_error(trainY, regression.predict(trainX))\n",
    "    print(\"Linear Regression: Train MSE: \", trainMse)\n",
    "    \n",
    "    predY = regression.predict(testX)\n",
    "    #print(predY)\n",
    "    testMse = mean_squared_error(testY, predY)\n",
    "    print(\"Linear Regression: Test MSE: \", testMse)\n",
    "    return predY\n",
    "\n",
    "t = linearModel(trainX, trainY, testX, testY)"
   ]
  },
  {
   "cell_type": "code",
   "execution_count": 50,
   "metadata": {},
   "outputs": [
    {
     "data": {
      "text/plain": [
       "-338.922"
      ]
     },
     "execution_count": 50,
     "metadata": {},
     "output_type": "execute_result"
    }
   ],
   "source": [
    "def calculateCP1(M, y):\n",
    "    CP = -4.37*M - 0.474*y + 81.87\n",
    "    return CP\n",
    "\n",
    "predictedCP = calculateCP1(90, 58)\n",
    "predictedCP"
   ]
  },
  {
   "cell_type": "markdown",
   "metadata": {},
   "source": [
    "# Why linear relationship is a bad choice?\n",
    "\n",
    "1. It predicts negative values for the rank. It's harder to restrict the predicted popularity values between 0 to 100"
   ]
  },
  {
   "cell_type": "markdown",
   "metadata": {},
   "source": [
    "# Assuming Exponential Relationship Between C, M, y\n",
    "\n",
    "C = M^beta0 ** e^(beta1 * y + beta2)"
   ]
  },
  {
   "cell_type": "code",
   "execution_count": 6,
   "metadata": {},
   "outputs": [
    {
     "name": "stdout",
     "output_type": "stream",
     "text": [
      "[[-0.0968608  -0.01167705]] [4.57521378]\n",
      "Linear Regression: Train MSE:  0.17957664620212568\n",
      "Linear Regression: Test MSE:  0.20750925021491343\n"
     ]
    }
   ],
   "source": [
    "trX = trainX\n",
    "tstX = testX\n",
    "trX[\"Rank\"] = np.log(trX[\"Rank\"])\n",
    "tstX[\"Rank\"] = np.log(tstX[\"Rank\"])\n",
    "trY = np.log(trainY)\n",
    "tstY = np.log(testY)\n",
    "predY = linearModel(trainX, trY, testX, tstY)"
   ]
  },
  {
   "cell_type": "code",
   "execution_count": 7,
   "metadata": {},
   "outputs": [
    {
     "data": {
      "text/plain": [
       "34.46757520483496"
      ]
     },
     "execution_count": 7,
     "metadata": {},
     "output_type": "execute_result"
    }
   ],
   "source": [
    "def calculateCP(M, y):\n",
    "    K = np.exp(4.57)\n",
    "    CP = (pow(M, -1*0.1)* np.exp(-0.01*y) * K)\n",
    "    return CP\n",
    "\n",
    "predictedCP = calculateCP(90, 58)\n",
    "predictedCP"
   ]
  },
  {
   "cell_type": "markdown",
   "metadata": {},
   "source": [
    "# Baseline Model Analysis"
   ]
  },
  {
   "cell_type": "code",
   "execution_count": 10,
   "metadata": {},
   "outputs": [
    {
     "data": {
      "text/plain": [
       "<matplotlib.legend.Legend at 0x1a22973b00>"
      ]
     },
     "execution_count": 10,
     "metadata": {},
     "output_type": "execute_result"
    },
    {
     "data": {
      "image/png": "[encoded data removed]",
      "text/plain": [
       "<Figure size 432x288 with 1 Axes>"
      ]
     },
     "metadata": {},
     "output_type": "display_data"
    }
   ],
   "source": [
    "import matplotlib.pyplot as plt\n",
    "df[\"Predicted_Popularity\"] = df.apply(lambda x: calculateCP(float(x[\"Rank\"]), x[\"Year\"]), axis=1)\n",
    "\n",
    "df[\"Performance\"] = df[\"Spotify_Popularity\"]/df[\"Predicted_Popularity\"]\n",
    "groupedDf = df.groupby(\"Original_Year\").mean().reset_index()\n",
    "\n",
    "plt.title(\"Actual Popularity in 2018 vs Predicted Popularity in 2018\")\n",
    "plt.plot('Original_Year', 'Spotify_Popularity', data=groupedDf, color='olive', linewidth=2, label=\"Mean Spotify Popularity\")\n",
    "plt.plot('Original_Year', 'Predicted_Popularity', data=groupedDf, color='blue', linewidth=2, label=\"Mean Predicted Popularity\")\n",
    "plt.xlabel(\"First Appearance On Chart\")\n",
    "plt.ylabel(\"Popularity \")\n",
    "plt.legend()"
   ]
  },
  {
   "cell_type": "code",
   "execution_count": 11,
   "metadata": {},
   "outputs": [
    {
     "data": {
      "text/plain": [
       "<matplotlib.legend.Legend at 0x1a22a1ee48>"
      ]
     },
     "execution_count": 11,
     "metadata": {},
     "output_type": "execute_result"
    },
    {
     "data": {
      "image/png": "[encoded data removed]",
      "text/plain": [
       "<Figure size 432x288 with 1 Axes>"
      ]
     },
     "metadata": {},
     "output_type": "display_data"
    }
   ],
   "source": [
    "groupedDf = df.groupby(\"Rank\").mean().reset_index()\n",
    "\n",
    "plt.title(\"Actual Popularity in 2018 vs Predicted Popularity in 2018\")\n",
    "plt.plot('Rank', 'Spotify_Popularity', data=groupedDf, color='olive', linewidth=2, label=\"Mean Spotify Popularity\")\n",
    "plt.plot('Rank', 'Predicted_Popularity', data=groupedDf, color='blue', linewidth=2, label=\"Mean Predicted Popularity\")\n",
    "plt.ylabel(\"Popularity on a scale of 0 to 100\")\n",
    "plt.xlabel(\"Billboard Rank\")\n",
    "plt.legend()\n"
   ]
  },
  {
   "cell_type": "code",
   "execution_count": 40,
   "metadata": {},
   "outputs": [
    {
     "data": {
      "image/png": "[encoded data removed]",
      "text/plain": [
       "<Figure size 432x288 with 1 Axes>"
      ]
     },
     "metadata": {},
     "output_type": "display_data"
    }
   ],
   "source": [
    "df[\"Average_Error\"] = df[\"Spotify_Popularity\"] - df[\"Predicted_Popularity\"]\n",
    "groupedDf = df.groupby(\"Original_Year\").mean().reset_index()\n",
    "\n",
    "plt.title(\"Average Error Distribution\")\n",
    "plt.hist(groupedDf['Average_Error'], bins=np.arange(groupedDf['Average_Error'].min(), groupedDf['Average_Error'].max()+1))\n",
    "plt.xlabel(\"Average Error Value\")\n",
    "plt.ylabel(\"Average Error Value Frequency\")\n",
    "plt.show()\n"
   ]
  },
  {
   "cell_type": "markdown",
   "metadata": {},
   "source": [
    "Most of the error values lie between - 5 to + 5. \n",
    "Our model predicts the spotify popularity from rank and number of years with a difference of +/-5."
   ]
  },
  {
   "cell_type": "markdown",
   "metadata": {},
   "source": [
    "# Over Performing Songs "
   ]
  },
  {
   "cell_type": "code",
   "execution_count": 34,
   "metadata": {},
   "outputs": [
    {
     "data": {
      "text/html": [
       "<div>\n",
       "<style scoped>\n",
       "    .dataframe tbody tr th:only-of-type {\n",
       "        vertical-align: middle;\n",
       "    }\n",
       "\n",
       "    .dataframe tbody tr th {\n",
       "        vertical-align: top;\n",
       "    }\n",
       "\n",
       "    .dataframe thead th {\n",
       "        text-align: right;\n",
       "    }\n",
       "</style>\n",
       "<table border=\"1\" class=\"dataframe\">\n",
       "  <thead>\n",
       "    <tr style=\"text-align: right;\">\n",
       "      <th></th>\n",
       "      <th>Title</th>\n",
       "      <th>Artist</th>\n",
       "      <th>Original_Year</th>\n",
       "      <th>Rank</th>\n",
       "      <th>Spotify_Popularity</th>\n",
       "      <th>Predicted_Popularity</th>\n",
       "      <th>Performance</th>\n",
       "    </tr>\n",
       "  </thead>\n",
       "  <tbody>\n",
       "    <tr>\n",
       "      <th>425</th>\n",
       "      <td>Come Together</td>\n",
       "      <td>Beatles</td>\n",
       "      <td>1969</td>\n",
       "      <td>85</td>\n",
       "      <td>77</td>\n",
       "      <td>37.929716</td>\n",
       "      <td>2.030071</td>\n",
       "    </tr>\n",
       "    <tr>\n",
       "      <th>375</th>\n",
       "      <td>I Say A Little Prayer</td>\n",
       "      <td>Aretha Franklin</td>\n",
       "      <td>1968</td>\n",
       "      <td>93</td>\n",
       "      <td>74</td>\n",
       "      <td>37.216047</td>\n",
       "      <td>1.988390</td>\n",
       "    </tr>\n",
       "    <tr>\n",
       "      <th>164</th>\n",
       "      <td>You Really Got Me</td>\n",
       "      <td>Kinks</td>\n",
       "      <td>1964</td>\n",
       "      <td>78</td>\n",
       "      <td>70</td>\n",
       "      <td>36.391278</td>\n",
       "      <td>1.923538</td>\n",
       "    </tr>\n",
       "    <tr>\n",
       "      <th>284</th>\n",
       "      <td>Brown Eyed Girl</td>\n",
       "      <td>Van Morrison</td>\n",
       "      <td>1967</td>\n",
       "      <td>35</td>\n",
       "      <td>78</td>\n",
       "      <td>40.628313</td>\n",
       "      <td>1.919843</td>\n",
       "    </tr>\n",
       "    <tr>\n",
       "      <th>153</th>\n",
       "      <td>Twist And Shout</td>\n",
       "      <td>Beatles</td>\n",
       "      <td>1964</td>\n",
       "      <td>40</td>\n",
       "      <td>74</td>\n",
       "      <td>38.904583</td>\n",
       "      <td>1.902090</td>\n",
       "    </tr>\n",
       "    <tr>\n",
       "      <th>126</th>\n",
       "      <td>Ring Of Fire</td>\n",
       "      <td>Johnny Cash</td>\n",
       "      <td>1963</td>\n",
       "      <td>80</td>\n",
       "      <td>68</td>\n",
       "      <td>35.938076</td>\n",
       "      <td>1.892144</td>\n",
       "    </tr>\n",
       "    <tr>\n",
       "      <th>526</th>\n",
       "      <td>Riders On The Storm</td>\n",
       "      <td>Doors</td>\n",
       "      <td>1971</td>\n",
       "      <td>99</td>\n",
       "      <td>72</td>\n",
       "      <td>38.110431</td>\n",
       "      <td>1.889247</td>\n",
       "    </tr>\n",
       "    <tr>\n",
       "      <th>516</th>\n",
       "      <td>Wild World</td>\n",
       "      <td>Cat Stevens</td>\n",
       "      <td>1971</td>\n",
       "      <td>73</td>\n",
       "      <td>74</td>\n",
       "      <td>39.289372</td>\n",
       "      <td>1.883461</td>\n",
       "    </tr>\n",
       "    <tr>\n",
       "      <th>167</th>\n",
       "      <td>I Saw Her Standing There</td>\n",
       "      <td>Beatles</td>\n",
       "      <td>1964</td>\n",
       "      <td>95</td>\n",
       "      <td>67</td>\n",
       "      <td>35.680785</td>\n",
       "      <td>1.877761</td>\n",
       "    </tr>\n",
       "    <tr>\n",
       "      <th>48</th>\n",
       "      <td>Take Five</td>\n",
       "      <td>Dave Brubeck</td>\n",
       "      <td>1961</td>\n",
       "      <td>95</td>\n",
       "      <td>65</td>\n",
       "      <td>34.626259</td>\n",
       "      <td>1.877188</td>\n",
       "    </tr>\n",
       "  </tbody>\n",
       "</table>\n",
       "</div>"
      ],
      "text/plain": [
       "                        Title           Artist  Original_Year  Rank  \\\n",
       "425             Come Together          Beatles           1969    85   \n",
       "375     I Say A Little Prayer  Aretha Franklin           1968    93   \n",
       "164         You Really Got Me            Kinks           1964    78   \n",
       "284           Brown Eyed Girl     Van Morrison           1967    35   \n",
       "153           Twist And Shout          Beatles           1964    40   \n",
       "126              Ring Of Fire      Johnny Cash           1963    80   \n",
       "526       Riders On The Storm            Doors           1971    99   \n",
       "516                Wild World      Cat Stevens           1971    73   \n",
       "167  I Saw Her Standing There          Beatles           1964    95   \n",
       "48                  Take Five     Dave Brubeck           1961    95   \n",
       "\n",
       "     Spotify_Popularity  Predicted_Popularity  Performance  \n",
       "425                  77             37.929716     2.030071  \n",
       "375                  74             37.216047     1.988390  \n",
       "164                  70             36.391278     1.923538  \n",
       "284                  78             40.628313     1.919843  \n",
       "153                  74             38.904583     1.902090  \n",
       "126                  68             35.938076     1.892144  \n",
       "526                  72             38.110431     1.889247  \n",
       "516                  74             39.289372     1.883461  \n",
       "167                  67             35.680785     1.877761  \n",
       "48                   65             34.626259     1.877188  "
      ]
     },
     "execution_count": 34,
     "metadata": {},
     "output_type": "execute_result"
    }
   ],
   "source": [
    "newDf = df.sort_values(by=['Performance'], ascending=False).head(100)\n",
    "newDf = newDf[['Title','Artist', 'Original_Year', 'Rank', 'Spotify_Popularity', 'Predicted_Popularity', 'Performance']]\n",
    "newDf = newDf[newDf['Original_Year'] <= 1980]\n",
    "newDf.head(10)"
   ]
  },
  {
   "cell_type": "markdown",
   "metadata": {},
   "source": [
    "# Under Performing Songs"
   ]
  },
  {
   "cell_type": "code",
   "execution_count": 35,
   "metadata": {},
   "outputs": [
    {
     "data": {
      "text/html": [
       "<div>\n",
       "<style scoped>\n",
       "    .dataframe tbody tr th:only-of-type {\n",
       "        vertical-align: middle;\n",
       "    }\n",
       "\n",
       "    .dataframe tbody tr th {\n",
       "        vertical-align: top;\n",
       "    }\n",
       "\n",
       "    .dataframe thead th {\n",
       "        text-align: right;\n",
       "    }\n",
       "</style>\n",
       "<table border=\"1\" class=\"dataframe\">\n",
       "  <thead>\n",
       "    <tr style=\"text-align: right;\">\n",
       "      <th></th>\n",
       "      <th>Title</th>\n",
       "      <th>Artist</th>\n",
       "      <th>Original_Year</th>\n",
       "      <th>Rank</th>\n",
       "      <th>Spotify_Popularity</th>\n",
       "      <th>Predicted_Popularity</th>\n",
       "      <th>Performance</th>\n",
       "    </tr>\n",
       "  </thead>\n",
       "  <tbody>\n",
       "    <tr>\n",
       "      <th>517</th>\n",
       "      <td>Watching Scotty Grow</td>\n",
       "      <td>Bobby Goldsboro</td>\n",
       "      <td>1971</td>\n",
       "      <td>78</td>\n",
       "      <td>1</td>\n",
       "      <td>39.029943</td>\n",
       "      <td>0.025621</td>\n",
       "    </tr>\n",
       "    <tr>\n",
       "      <th>35</th>\n",
       "      <td>Apache</td>\n",
       "      <td>Jørgen Ingmann</td>\n",
       "      <td>1961</td>\n",
       "      <td>35</td>\n",
       "      <td>1</td>\n",
       "      <td>38.262304</td>\n",
       "      <td>0.026135</td>\n",
       "    </tr>\n",
       "    <tr>\n",
       "      <th>79</th>\n",
       "      <td>Snap Your Fingers</td>\n",
       "      <td>Joe Henderson</td>\n",
       "      <td>1962</td>\n",
       "      <td>66</td>\n",
       "      <td>1</td>\n",
       "      <td>36.271580</td>\n",
       "      <td>0.027570</td>\n",
       "    </tr>\n",
       "    <tr>\n",
       "      <th>20</th>\n",
       "      <td>Poetry In Motion</td>\n",
       "      <td>Johnny Tillotson</td>\n",
       "      <td>1960</td>\n",
       "      <td>87</td>\n",
       "      <td>1</td>\n",
       "      <td>34.584624</td>\n",
       "      <td>0.028915</td>\n",
       "    </tr>\n",
       "    <tr>\n",
       "      <th>428</th>\n",
       "      <td>Oh Happy Day</td>\n",
       "      <td>Edwin Hawkins Singers</td>\n",
       "      <td>1969</td>\n",
       "      <td>93</td>\n",
       "      <td>2</td>\n",
       "      <td>37.590075</td>\n",
       "      <td>0.053206</td>\n",
       "    </tr>\n",
       "    <tr>\n",
       "      <th>86</th>\n",
       "      <td>Soul Twist</td>\n",
       "      <td>King Curtis</td>\n",
       "      <td>1962</td>\n",
       "      <td>92</td>\n",
       "      <td>2</td>\n",
       "      <td>35.086665</td>\n",
       "      <td>0.057002</td>\n",
       "    </tr>\n",
       "    <tr>\n",
       "      <th>87</th>\n",
       "      <td>Where Have All The Flowers Gone</td>\n",
       "      <td>Kingston Trio</td>\n",
       "      <td>1962</td>\n",
       "      <td>95</td>\n",
       "      <td>2</td>\n",
       "      <td>34.974258</td>\n",
       "      <td>0.057185</td>\n",
       "    </tr>\n",
       "    <tr>\n",
       "      <th>34</th>\n",
       "      <td>I Like It Like That</td>\n",
       "      <td>Chris Kenner</td>\n",
       "      <td>1961</td>\n",
       "      <td>34</td>\n",
       "      <td>3</td>\n",
       "      <td>38.373378</td>\n",
       "      <td>0.078179</td>\n",
       "    </tr>\n",
       "    <tr>\n",
       "      <th>10</th>\n",
       "      <td>Night</td>\n",
       "      <td>Jackie Wilson</td>\n",
       "      <td>1960</td>\n",
       "      <td>34</td>\n",
       "      <td>3</td>\n",
       "      <td>37.991557</td>\n",
       "      <td>0.078965</td>\n",
       "    </tr>\n",
       "    <tr>\n",
       "      <th>40</th>\n",
       "      <td>Walk Right Back</td>\n",
       "      <td>Everly Brothers</td>\n",
       "      <td>1961</td>\n",
       "      <td>57</td>\n",
       "      <td>3</td>\n",
       "      <td>36.441013</td>\n",
       "      <td>0.082325</td>\n",
       "    </tr>\n",
       "  </tbody>\n",
       "</table>\n",
       "</div>"
      ],
      "text/plain": [
       "                               Title                 Artist  Original_Year  \\\n",
       "517             Watching Scotty Grow        Bobby Goldsboro           1971   \n",
       "35                            Apache         Jørgen Ingmann           1961   \n",
       "79                 Snap Your Fingers          Joe Henderson           1962   \n",
       "20                  Poetry In Motion       Johnny Tillotson           1960   \n",
       "428                     Oh Happy Day  Edwin Hawkins Singers           1969   \n",
       "86                        Soul Twist            King Curtis           1962   \n",
       "87   Where Have All The Flowers Gone          Kingston Trio           1962   \n",
       "34               I Like It Like That           Chris Kenner           1961   \n",
       "10                             Night          Jackie Wilson           1960   \n",
       "40                   Walk Right Back        Everly Brothers           1961   \n",
       "\n",
       "     Rank  Spotify_Popularity  Predicted_Popularity  Performance  \n",
       "517    78                   1             39.029943     0.025621  \n",
       "35     35                   1             38.262304     0.026135  \n",
       "79     66                   1             36.271580     0.027570  \n",
       "20     87                   1             34.584624     0.028915  \n",
       "428    93                   2             37.590075     0.053206  \n",
       "86     92                   2             35.086665     0.057002  \n",
       "87     95                   2             34.974258     0.057185  \n",
       "34     34                   3             38.373378     0.078179  \n",
       "10     34                   3             37.991557     0.078965  \n",
       "40     57                   3             36.441013     0.082325  "
      ]
     },
     "execution_count": 35,
     "metadata": {},
     "output_type": "execute_result"
    }
   ],
   "source": [
    "newDf = df.sort_values(by=['Performance'], ascending=True).head(100)\n",
    "newDf = newDf[['Title','Artist', 'Original_Year', 'Rank', 'Spotify_Popularity', 'Predicted_Popularity', 'Performance']]\n",
    "newDf = newDf[newDf['Original_Year'] <= 1980]\n",
    "newDf.head(10)"
   ]
  },
  {
   "cell_type": "markdown",
   "metadata": {},
   "source": [
    "# Improved Model\n",
    "\n",
    "In this model, we plan to incorporate 1 additional feature - Artist Popularity\n",
    "We believe that Artist Popularity is an important feature which affects any songs current popularity."
   ]
  },
  {
   "cell_type": "code",
   "execution_count": null,
   "metadata": {},
   "outputs": [],
   "source": []
  }
 ],
 "metadata": {
  "kernelspec": {
   "display_name": "Python 3",
   "language": "python",
   "name": "python3"
  },
  "language_info": {
   "codemirror_mode": {
    "name": "ipython",
    "version": 3
   },
   "file_extension": ".py",
   "mimetype": "text/x-python",
   "name": "python",
   "nbconvert_exporter": "python",
   "pygments_lexer": "ipython3",
   "version": "3.6.5"
  }
 },
 "nbformat": 4,
 "nbformat_minor": 2
}
