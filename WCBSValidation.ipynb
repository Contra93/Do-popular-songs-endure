{
 "cells": [
  {
   "cell_type": "code",
   "execution_count": 1,
   "metadata": {},
   "outputs": [],
   "source": [
    "import pandas as pd\n",
    "import numpy as np\n",
    "import matplotlib.pyplot as plt"
   ]
  },
  {
   "cell_type": "code",
   "execution_count": 2,
   "metadata": {},
   "outputs": [],
   "source": [
    "df = pd.read_csv(\"1956_Full_data\", sep=\",\")"
   ]
  },
  {
   "cell_type": "code",
   "execution_count": 3,
   "metadata": {},
   "outputs": [],
   "source": [
    "df[\"Chart_Year\"] = 1973"
   ]
  },
  {
   "cell_type": "code",
   "execution_count": 4,
   "metadata": {},
   "outputs": [],
   "source": [
    "df = df.drop(\"Unnamed: 0\", axis = 1)"
   ]
  },
  {
   "cell_type": "code",
   "execution_count": 5,
   "metadata": {},
   "outputs": [
    {
     "data": {
      "text/html": [
       "<div>\n",
       "<style scoped>\n",
       "    .dataframe tbody tr th:only-of-type {\n",
       "        vertical-align: middle;\n",
       "    }\n",
       "\n",
       "    .dataframe tbody tr th {\n",
       "        vertical-align: top;\n",
       "    }\n",
       "\n",
       "    .dataframe thead th {\n",
       "        text-align: right;\n",
       "    }\n",
       "</style>\n",
       "<table border=\"1\" class=\"dataframe\">\n",
       "  <thead>\n",
       "    <tr style=\"text-align: right;\">\n",
       "      <th></th>\n",
       "      <th>Rank</th>\n",
       "      <th>Year</th>\n",
       "      <th>Artist</th>\n",
       "      <th>Song1</th>\n",
       "      <th>Chart_Year</th>\n",
       "    </tr>\n",
       "  </thead>\n",
       "  <tbody>\n",
       "    <tr>\n",
       "      <th>0</th>\n",
       "      <td>1</td>\n",
       "      <td>1956</td>\n",
       "      <td>The Five Satins</td>\n",
       "      <td>In The Still Of The Nite</td>\n",
       "      <td>1973</td>\n",
       "    </tr>\n",
       "    <tr>\n",
       "      <th>1</th>\n",
       "      <td>2</td>\n",
       "      <td>1954</td>\n",
       "      <td>The Penguins</td>\n",
       "      <td>Hey Senorita</td>\n",
       "      <td>1973</td>\n",
       "    </tr>\n",
       "    <tr>\n",
       "      <th>2</th>\n",
       "      <td>3</td>\n",
       "      <td>1961</td>\n",
       "      <td>Elvis Presley</td>\n",
       "      <td>Can't Help Falling In Love</td>\n",
       "      <td>1973</td>\n",
       "    </tr>\n",
       "    <tr>\n",
       "      <th>3</th>\n",
       "      <td>4</td>\n",
       "      <td>1965</td>\n",
       "      <td>The Righteous Brothers</td>\n",
       "      <td>Hung On You</td>\n",
       "      <td>1973</td>\n",
       "    </tr>\n",
       "    <tr>\n",
       "      <th>4</th>\n",
       "      <td>5</td>\n",
       "      <td>1957</td>\n",
       "      <td>Mello-Kings</td>\n",
       "      <td>Tonite, Tonite</td>\n",
       "      <td>1973</td>\n",
       "    </tr>\n",
       "  </tbody>\n",
       "</table>\n",
       "</div>"
      ],
      "text/plain": [
       "   Rank  Year                  Artist                       Song1  Chart_Year\n",
       "0     1  1956         The Five Satins    In The Still Of The Nite        1973\n",
       "1     2  1954            The Penguins                Hey Senorita        1973\n",
       "2     3  1961           Elvis Presley  Can't Help Falling In Love        1973\n",
       "3     4  1965  The Righteous Brothers                 Hung On You        1973\n",
       "4     5  1957             Mello-Kings              Tonite, Tonite        1973"
      ]
     },
     "execution_count": 5,
     "metadata": {},
     "output_type": "execute_result"
    }
   ],
   "source": [
    "df.head()"
   ]
  },
  {
   "cell_type": "code",
   "execution_count": 6,
   "metadata": {},
   "outputs": [],
   "source": [
    "songs = pd.read_csv(\"songsWithPopularity.csv\",sep=\",\")\n",
    "songs = songs[songs[\"Spotify_Popularity\"] > -1]"
   ]
  },
  {
   "cell_type": "code",
   "execution_count": 7,
   "metadata": {},
   "outputs": [],
   "source": [
    "def calculateCP(M, y):\n",
    "    K = np.exp(4.57)\n",
    "    CP = (pow(M, -1*0.1)* np.exp(-0.01*y) * K)\n",
    "    return CP"
   ]
  },
  {
   "cell_type": "code",
   "execution_count": 11,
   "metadata": {},
   "outputs": [],
   "source": [
    "def genchart(df,songs):\n",
    "    df.columns = ['Rank','Year',\n",
    "                     'Artist','Title', 'Chart_Year']\n",
    "    mergedStuff = pd.merge(songs, df, on=['Title','Artist'], how='outer')\n",
    "    mergedStuff = mergedStuff.dropna()\n",
    "    x2 = mergedStuff.apply(lambda x: x['Chart_Year'] - x['year'], axis = 1)\n",
    "    y = mergedStuff['Spotify_Popularity']\n",
    "    new_df = pd.DataFrame({\"Year\": x2.values, \n",
    "                   \"Spotify_Popularity\": y.values, \n",
    "                   \"Original_Year\": mergedStuff['year'].values, \n",
    "                   \"Spotify_Rank\": mergedStuff[\"Rank_x\"].values,\n",
    "                   \"WCBS_Rank\": mergedStuff['Rank_y'].values,\n",
    "                   \"WCBS_Chart_Year\": mergedStuff['Chart_Year'].values,\n",
    "                   \"Title\": mergedStuff[\"Title\"].values, \n",
    "                   \"Artist\": mergedStuff[\"Artist\"].values})\n",
    "    new_df[\"Predicted_Popularity\"] = new_df.apply(lambda x: calculateCP(float(x[\"Spotify_Rank\"]), x[\"Year\"]), axis=1)\n",
    "    new_df = new_df.sort_values('WCBS_Rank')\n",
    "    plt.scatter('WCBS_Rank', 'Predicted_Popularity',data = new_df)\n",
    "    #plt.plot('WCBS_Rank', 'Spotify_Popularity',data = new_df)\n",
    "    plt.legend(loc='best')\n",
    "    plt.rcParams['figure.figsize'] = 10, 6\n",
    "    plt.rcParams['font.size'] = 12\n",
    "    plt.xlabel('WCBS Rank')\n",
    "    plt.ylabel('Spotify Popularity')\n",
    "    plt.title('Predicted popularity 1973')\n",
    "    "
   ]
  },
  {
   "cell_type": "code",
   "execution_count": 12,
   "metadata": {},
   "outputs": [
    {
     "data": {
      "image/png": "[encoded data removed]",
      "text/plain": [
       "<Figure size 720x432 with 1 Axes>"
      ]
     },
     "metadata": {
      "needs_background": "light"
     },
     "output_type": "display_data"
    }
   ],
   "source": [
    "genchart(df,songs)"
   ]
  },
  {
   "cell_type": "code",
   "execution_count": null,
   "metadata": {},
   "outputs": [],
   "source": []
  }
 ],
 "metadata": {
  "kernelspec": {
   "display_name": "Python 3",
   "language": "python",
   "name": "python3"
  },
  "language_info": {
   "codemirror_mode": {
    "name": "ipython",
    "version": 3
   },
   "file_extension": ".py",
   "mimetype": "text/x-python",
   "name": "python",
   "nbconvert_exporter": "python",
   "pygments_lexer": "ipython3",
   "version": "3.7.0"
  }
 },
 "nbformat": 4,
 "nbformat_minor": 2
}
